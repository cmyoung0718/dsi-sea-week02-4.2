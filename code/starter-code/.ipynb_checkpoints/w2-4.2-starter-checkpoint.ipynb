{
 "cells": [
  {
   "cell_type": "code",
   "execution_count": 69,
   "metadata": {
    "collapsed": false
   },
   "outputs": [],
   "source": [
    "import scipy as sp\n",
    "import numpy as np\n",
    "import matplotlib as mpl\n",
    "import matplotlib.pyplot as plt\n",
    "from scipy import stats\n",
    "from scipy.stats import norm\n",
    "import pylab as pl\n",
    "%matplotlib inline"
   ]
  },
  {
   "cell_type": "code",
   "execution_count": 70,
   "metadata": {
    "collapsed": false
   },
   "outputs": [
    {
     "name": "stdout",
     "output_type": "stream",
     "text": [
      "[ 1.62434536 -0.61175641 -0.52817175 -1.07296862  0.86540763 -2.3015387\n",
      "  1.74481176 -0.7612069   0.3190391  -0.24937038  1.46210794 -2.06014071\n",
      " -0.3224172  -0.38405435  1.13376944 -1.09989127 -0.17242821 -0.87785842\n",
      "  0.04221375  0.58281521 -1.10061918  1.14472371  0.90159072  0.50249434\n",
      "  0.90085595 -0.68372786 -0.12289023 -0.93576943 -0.26788808  0.53035547\n",
      " -0.69166075 -0.39675353 -0.6871727  -0.84520564 -0.67124613 -0.0126646\n",
      " -1.11731035  0.2344157   1.65980218  0.74204416 -0.19183555 -0.88762896\n",
      " -0.74715829  1.6924546   0.05080775 -0.63699565  0.19091548  2.10025514\n",
      "  0.12015895  0.61720311  0.30017032 -0.35224985 -1.1425182  -0.34934272\n",
      " -0.20889423  0.58662319  0.83898341  0.93110208  0.28558733  0.88514116\n",
      " -0.75439794  1.25286816  0.51292982 -0.29809284  0.48851815 -0.07557171\n",
      "  1.13162939  1.51981682  2.18557541 -1.39649634 -1.44411381 -0.50446586\n",
      "  0.16003707  0.87616892  0.31563495 -2.02220122 -0.30620401  0.82797464\n",
      "  0.23009474  0.76201118 -0.22232814 -0.20075807  0.18656139  0.41005165\n",
      "  0.19829972  0.11900865 -0.67066229  0.37756379  0.12182127  1.12948391\n",
      "  1.19891788  0.18515642 -0.37528495 -0.63873041  0.42349435  0.07734007\n",
      " -0.34385368  0.04359686 -0.62000084  0.69803203]\n"
     ]
    }
   ],
   "source": [
    "# Generate a sequence of random variates, use the \n",
    "# random_state parameter which accepts an instance of \n",
    "# numpy.random.RandomState class, or an integer which is then used \n",
    "# to seed an internal RandomState object\n",
    "# example: random = norm.rvs(size=5, random_state=1234)\n",
    "\n",
    "random = norm.rvs(size=100, random_state=1)\n",
    "print random"
   ]
  },
  {
   "cell_type": "code",
   "execution_count": 71,
   "metadata": {
    "collapsed": false
   },
   "outputs": [
    {
     "name": "stdout",
     "output_type": "stream",
     "text": [
      "DescribeResult(nobs=100, minmax=(-2.3015386968802827, 2.1855754065331614), mean=0.060582852075698704, variance=0.79141567968148152, skewness=-0.0044816514359261265, kurtosis=-0.0010829102812701663)\n"
     ]
    }
   ],
   "source": [
    "# Use scipy.stats 'describe' to find: number of elements, min, max, \n",
    "# variance, skew, and kurtosis. Let's take a look.\n",
    "\n",
    "print stats.describe(random)"
   ]
  },
  {
   "cell_type": "code",
   "execution_count": 72,
   "metadata": {
    "collapsed": false
   },
   "outputs": [
    {
     "name": "stdout",
     "output_type": "stream",
     "text": [
      "Number of elements: 100\n",
      "Minimum: -2.301539 Maximum: 2.185575\n",
      "Mean: 0.060583\n",
      "Variance: 0.791416\n",
      "Skew : -0.004482\n",
      "Kurtosis: -0.001083\n"
     ]
    }
   ],
   "source": [
    "n, min_max, mean, var, skew, kurt = stats.describe(random)\n",
    "print(\"Number of elements: {0:d}\".format(n))\n",
    "print(\"Minimum: {0:8.6f} Maximum: {1:8.6f}\".format(min_max[0], min_max[1]))\n",
    "print(\"Mean: {0:8.6f}\".format(mean))\n",
    "print(\"Variance: {0:8.6f}\".format(var))\n",
    "print(\"Skew : {0:8.6f}\".format(skew))\n",
    "print(\"Kurtosis: {0:8.6f}\".format(kurt))"
   ]
  },
  {
   "cell_type": "markdown",
   "metadata": {},
   "source": [
    "Skew describes the symmetry of the data.  The higher the skew, the less symmetrical the data set is.\n",
    "Kurtosis describes how peaked the data is.  The higher the kurtosis, the more peaked the data set is."
   ]
  },
  {
   "cell_type": "code",
   "execution_count": 73,
   "metadata": {
    "collapsed": false
   },
   "outputs": [
    {
     "data": {
      "image/png": "[encoded data removed]",
      "text/plain": [
       "<matplotlib.figure.Figure at 0x112486ad0>"
      ]
     },
     "metadata": {},
     "output_type": "display_data"
    }
   ],
   "source": [
    "plt.hist(random)\n",
    "plt.show()\n",
    "\n",
    "# The data definitely do look as if they are normally distributed.\n",
    "# The number of data points determines how closely to normal the data is distributed.  The less data points there are,\n",
    "# the further away from a normal distribution the data set will become."
   ]
  },
  {
   "cell_type": "code",
   "execution_count": 74,
   "metadata": {
    "collapsed": false
   },
   "outputs": [
    {
     "data": {
      "image/png": "[encoded data removed]",
      "text/plain": [
       "<matplotlib.figure.Figure at 0x1131fa390>"
      ]
     },
     "metadata": {},
     "output_type": "display_data"
    }
   ],
   "source": [
    "# Randomly generated distribution with 1000000 numbers\n",
    "\n",
    "norm1000000 = norm.rvs(size=1000000, random_state=1)\n",
    "plt.hist(norm1000000)\n",
    "plt.show()"
   ]
  },
  {
   "cell_type": "code",
   "execution_count": 75,
   "metadata": {
    "collapsed": false
   },
   "outputs": [
    {
     "data": {
      "image/png": "[encoded data removed]",
      "text/plain": [
       "<matplotlib.figure.Figure at 0x11414ea90>"
      ]
     },
     "metadata": {},
     "output_type": "display_data"
    }
   ],
   "source": [
    "# Randomly generated distribution with 5 numbers\n",
    "\n",
    "norm5 = norm.rvs(size=5, random_state=1)\n",
    "plt.hist(norm5)\n",
    "plt.show()"
   ]
  },
  {
   "cell_type": "code",
   "execution_count": null,
   "metadata": {
    "collapsed": true
   },
   "outputs": [],
   "source": []
  },
  {
   "cell_type": "code",
   "execution_count": null,
   "metadata": {
    "collapsed": true
   },
   "outputs": [],
   "source": []
  }
 ],
 "metadata": {
  "kernelspec": {
   "display_name": "Python [Root]",
   "language": "python",
   "name": "Python [Root]"
  },
  "language_info": {
   "codemirror_mode": {
    "name": "ipython",
    "version": 2
   },
   "file_extension": ".py",
   "mimetype": "text/x-python",
   "name": "python",
   "nbconvert_exporter": "python",
   "pygments_lexer": "ipython2",
   "version": "2.7.12"
  }
 },
 "nbformat": 4,
 "nbformat_minor": 0
}
